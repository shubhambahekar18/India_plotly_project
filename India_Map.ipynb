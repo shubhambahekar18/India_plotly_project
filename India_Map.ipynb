{
 "cells": [
  {
   "cell_type": "code",
   "execution_count": 66,
   "id": "b92d5a3c",
   "metadata": {},
   "outputs": [],
   "source": [
    "import json\n",
    "import pandas as pd\n",
    "import numpy as np\n",
    "import plotly.express as px\n",
    "states_india=json.load(open(\"states_india.geojson\",\"r\"))"
   ]
  },
  {
   "cell_type": "code",
   "execution_count": 67,
   "id": "63da37a0",
   "metadata": {},
   "outputs": [],
   "source": [
    "import plotly.io as pio\n",
    "pio.renderers.default =\"chrome\""
   ]
  },
  {
   "cell_type": "code",
   "execution_count": 68,
   "id": "6ec352f3",
   "metadata": {},
   "outputs": [
    {
     "data": {
      "text/plain": [
       "{'cartodb_id': 3, 'state_code': 28, 'st_nm': 'Andhra Pradesh'}"
      ]
     },
     "execution_count": 68,
     "metadata": {},
     "output_type": "execute_result"
    }
   ],
   "source": [
    "states_india[\"features\"][2]['properties']"
   ]
  },
  {
   "cell_type": "code",
   "execution_count": 69,
   "id": "349c8811",
   "metadata": {},
   "outputs": [
    {
     "data": {
      "text/plain": [
       "{'Telangana': 0,\n",
       " 'Andaman & Nicobar Island': 35,\n",
       " 'Andhra Pradesh': 28,\n",
       " 'Arunanchal Pradesh': 12,\n",
       " 'Assam': 18,\n",
       " 'Bihar': 10,\n",
       " 'Chhattisgarh': 22,\n",
       " 'Daman & Diu': 25,\n",
       " 'Goa': 30,\n",
       " 'Gujarat': 24,\n",
       " 'Haryana': 6,\n",
       " 'Himachal Pradesh': 2,\n",
       " 'Jammu & Kashmir': 1,\n",
       " 'Jharkhand': 20,\n",
       " 'Karnataka': 29,\n",
       " 'Kerala': 32,\n",
       " 'Lakshadweep': 31,\n",
       " 'Madhya Pradesh': 23,\n",
       " 'Maharashtra': 27,\n",
       " 'Manipur': 14,\n",
       " 'Chandigarh': 4,\n",
       " 'Puducherry': 34,\n",
       " 'Punjab': 3,\n",
       " 'Rajasthan': 8,\n",
       " 'Sikkim': 11,\n",
       " 'Tamil Nadu': 33,\n",
       " 'Tripura': 16,\n",
       " 'Uttar Pradesh': 9,\n",
       " 'Uttarakhand': 5,\n",
       " 'West Bengal': 19,\n",
       " 'Odisha': 21,\n",
       " 'Dadara & Nagar Havelli': 26,\n",
       " 'Meghalaya': 17,\n",
       " 'Mizoram': 15,\n",
       " 'Nagaland': 13,\n",
       " 'NCT of Delhi': 7}"
      ]
     },
     "execution_count": 69,
     "metadata": {},
     "output_type": "execute_result"
    }
   ],
   "source": [
    "state_id_map={}\n",
    "for feature in states_india['features']:\n",
    "    feature['id']=feature['properties']['state_code']\n",
    "    state_id_map[feature['properties']['st_nm']]=feature['id']\n",
    "    \n",
    "state_id_map\n",
    "    "
   ]
  },
  {
   "cell_type": "code",
   "execution_count": 70,
   "id": "174a19fd",
   "metadata": {},
   "outputs": [],
   "source": [
    "df=pd.read_csv(\"india_census.csv\")"
   ]
  },
  {
   "cell_type": "code",
   "execution_count": 71,
   "id": "080045dc",
   "metadata": {},
   "outputs": [
    {
     "data": {
      "text/html": [
       "<div>\n",
       "<style scoped>\n",
       "    .dataframe tbody tr th:only-of-type {\n",
       "        vertical-align: middle;\n",
       "    }\n",
       "\n",
       "    .dataframe tbody tr th {\n",
       "        vertical-align: top;\n",
       "    }\n",
       "\n",
       "    .dataframe thead th {\n",
       "        text-align: right;\n",
       "    }\n",
       "</style>\n",
       "<table border=\"1\" class=\"dataframe\">\n",
       "  <thead>\n",
       "    <tr style=\"text-align: right;\">\n",
       "      <th></th>\n",
       "      <th>Rank</th>\n",
       "      <th>State or union territory</th>\n",
       "      <th>Population</th>\n",
       "      <th>Population (%)</th>\n",
       "      <th>Decadal growth(2001–2011)</th>\n",
       "      <th>Rural population</th>\n",
       "      <th>Percent rural</th>\n",
       "      <th>Urban population</th>\n",
       "      <th>Percent urban</th>\n",
       "      <th>Area[16]</th>\n",
       "      <th>Density[a]</th>\n",
       "      <th>Sex ratio</th>\n",
       "    </tr>\n",
       "  </thead>\n",
       "  <tbody>\n",
       "    <tr>\n",
       "      <th>0</th>\n",
       "      <td>1.0</td>\n",
       "      <td>Uttar Pradesh</td>\n",
       "      <td>199812341</td>\n",
       "      <td>NaN</td>\n",
       "      <td>20.20%</td>\n",
       "      <td>155317278</td>\n",
       "      <td>NaN</td>\n",
       "      <td>44495063</td>\n",
       "      <td>NaN</td>\n",
       "      <td>240,928 km2 (93,023 sq mi)</td>\n",
       "      <td>828/km2 (2,140/sq mi)</td>\n",
       "      <td>912</td>\n",
       "    </tr>\n",
       "    <tr>\n",
       "      <th>1</th>\n",
       "      <td>2.0</td>\n",
       "      <td>Maharashtra</td>\n",
       "      <td>112374333</td>\n",
       "      <td>NaN</td>\n",
       "      <td>20.00%</td>\n",
       "      <td>61556074</td>\n",
       "      <td>NaN</td>\n",
       "      <td>50818259</td>\n",
       "      <td>NaN</td>\n",
       "      <td>307,713 km2 (118,809 sq mi)</td>\n",
       "      <td>365/km2 (950/sq mi)</td>\n",
       "      <td>929</td>\n",
       "    </tr>\n",
       "    <tr>\n",
       "      <th>2</th>\n",
       "      <td>3.0</td>\n",
       "      <td>Bihar</td>\n",
       "      <td>104099452</td>\n",
       "      <td>NaN</td>\n",
       "      <td>25.40%</td>\n",
       "      <td>92341436</td>\n",
       "      <td>NaN</td>\n",
       "      <td>11758016</td>\n",
       "      <td>NaN</td>\n",
       "      <td>94,163 km2 (36,357 sq mi)</td>\n",
       "      <td>1,102/km2 (2,850/sq mi)</td>\n",
       "      <td>918</td>\n",
       "    </tr>\n",
       "    <tr>\n",
       "      <th>3</th>\n",
       "      <td>4.0</td>\n",
       "      <td>West Bengal</td>\n",
       "      <td>91276115</td>\n",
       "      <td>NaN</td>\n",
       "      <td>13.80%</td>\n",
       "      <td>62183113</td>\n",
       "      <td>NaN</td>\n",
       "      <td>29093002</td>\n",
       "      <td>NaN</td>\n",
       "      <td>88,752 km2 (34,267 sq mi)</td>\n",
       "      <td>1,029/km2 (2,670/sq mi)</td>\n",
       "      <td>953</td>\n",
       "    </tr>\n",
       "    <tr>\n",
       "      <th>4</th>\n",
       "      <td>5.0</td>\n",
       "      <td>Madhya Pradesh</td>\n",
       "      <td>72626809</td>\n",
       "      <td>NaN</td>\n",
       "      <td>16.30%</td>\n",
       "      <td>52557404</td>\n",
       "      <td>NaN</td>\n",
       "      <td>20069405</td>\n",
       "      <td>NaN</td>\n",
       "      <td>308,245 km2 (119,014 sq mi)</td>\n",
       "      <td>236/km2 (610/sq mi)</td>\n",
       "      <td>931</td>\n",
       "    </tr>\n",
       "  </tbody>\n",
       "</table>\n",
       "</div>"
      ],
      "text/plain": [
       "   Rank State or union territory  Population  Population (%)  \\\n",
       "0   1.0            Uttar Pradesh   199812341             NaN   \n",
       "1   2.0              Maharashtra   112374333             NaN   \n",
       "2   3.0                    Bihar   104099452             NaN   \n",
       "3   4.0              West Bengal    91276115             NaN   \n",
       "4   5.0           Madhya Pradesh    72626809             NaN   \n",
       "\n",
       "  Decadal growth(2001–2011)  Rural population  Percent rural  \\\n",
       "0                    20.20%         155317278            NaN   \n",
       "1                    20.00%          61556074            NaN   \n",
       "2                    25.40%          92341436            NaN   \n",
       "3                    13.80%          62183113            NaN   \n",
       "4                    16.30%          52557404            NaN   \n",
       "\n",
       "   Urban population  Percent urban                     Area[16]  \\\n",
       "0          44495063            NaN   240,928 km2 (93,023 sq mi)   \n",
       "1          50818259            NaN  307,713 km2 (118,809 sq mi)   \n",
       "2          11758016            NaN    94,163 km2 (36,357 sq mi)   \n",
       "3          29093002            NaN    88,752 km2 (34,267 sq mi)   \n",
       "4          20069405            NaN  308,245 km2 (119,014 sq mi)   \n",
       "\n",
       "                Density[a]  Sex ratio  \n",
       "0    828/km2 (2,140/sq mi)        912  \n",
       "1      365/km2 (950/sq mi)        929  \n",
       "2  1,102/km2 (2,850/sq mi)        918  \n",
       "3  1,029/km2 (2,670/sq mi)        953  \n",
       "4      236/km2 (610/sq mi)        931  "
      ]
     },
     "execution_count": 71,
     "metadata": {},
     "output_type": "execute_result"
    }
   ],
   "source": [
    "df.head()"
   ]
  },
  {
   "cell_type": "code",
   "execution_count": 72,
   "id": "77fd8cc6",
   "metadata": {},
   "outputs": [
    {
     "data": {
      "text/plain": [
       "Index(['Rank', 'State or union territory', 'Population', 'Population (%)',\n",
       "       'Decadal growth(2001–2011)', 'Rural population', 'Percent rural',\n",
       "       'Urban population', 'Percent urban', 'Area[16]', 'Density[a]',\n",
       "       'Sex ratio'],\n",
       "      dtype='object')"
      ]
     },
     "execution_count": 72,
     "metadata": {},
     "output_type": "execute_result"
    }
   ],
   "source": [
    "df.columns"
   ]
  },
  {
   "cell_type": "code",
   "execution_count": 73,
   "id": "2944f0c8",
   "metadata": {},
   "outputs": [],
   "source": [
    "df['Density'] = df['Density[a]'].apply(lambda x: int(x.split('/')[0].replace(',',\"\")))\n",
    "df['id']=df['State or union territory'].apply(lambda x: state_id_map[x])"
   ]
  },
  {
   "cell_type": "code",
   "execution_count": 74,
   "id": "205b8ca5",
   "metadata": {},
   "outputs": [],
   "source": [
    "df['DensityScale']=np.log10(df['Density'])"
   ]
  },
  {
   "cell_type": "code",
   "execution_count": 75,
   "id": "0ede1516",
   "metadata": {},
   "outputs": [],
   "source": [
    "fig = px.choropleth(df,\n",
    "                    locations=\"id\",\n",
    "                    geojson=states_india ,\n",
    "                    color=\"DensityScale\",\n",
    "                    scope='asia',\n",
    "                    fitbounds=\"locations\",\n",
    "                   hover_data=['Density'],\n",
    "                   hover_name='State or union territory')\n",
    "# fig.show()\n",
    "# fig.update_goes(fitbounds=\"locations\",visible=False)\n",
    "fig.show()\n",
    "\n"
   ]
  },
  {
   "cell_type": "code",
   "execution_count": 82,
   "id": "56cec378",
   "metadata": {},
   "outputs": [],
   "source": [
    "fig = px.choropleth_mapbox(df,\n",
    "                    locations=\"id\",\n",
    "                    geojson=states_india ,\n",
    "                    color=\"DensityScale\",\n",
    "                    hover_data=['Density'],\n",
    "                    hover_name='State or union territory',\n",
    "                    mapbox_style=\"carto-positron\",\n",
    "                    center={\"lat\":24,\"lon\":78},\n",
    "                    zoom=5,\n",
    "                    opacity=0.4)\n",
    "\n",
    "fig.show()"
   ]
  },
  {
   "cell_type": "code",
   "execution_count": 83,
   "id": "0522a915",
   "metadata": {},
   "outputs": [],
   "source": [
    "df['SexratioScale']= df['Sex ratio'] - 1000"
   ]
  },
  {
   "cell_type": "code",
   "execution_count": 96,
   "id": "24e398c6",
   "metadata": {},
   "outputs": [],
   "source": [
    "fig = px.choropleth(df,\n",
    "                    locations=\"id\",\n",
    "                    geojson=states_india ,\n",
    "                    color=\"SexratioScale\",\n",
    "                    scope='asia',\n",
    "                    fitbounds=\"locations\",\n",
    "                    hover_data=['Sex ratio'],\n",
    "                    hover_name='State or union territory',\n",
    "                    color_continuous_scale=\"magma\",\n",
    "                    color_continuous_midpoint=0)\n",
    "# fig.update_layout(fitbounds=\"locations\",visible=False)\n",
    "fig.show()"
   ]
  },
  {
   "cell_type": "code",
   "execution_count": null,
   "id": "0dd3fd51",
   "metadata": {},
   "outputs": [],
   "source": []
  }
 ],
 "metadata": {
  "kernelspec": {
   "display_name": "Python 3 (ipykernel)",
   "language": "python",
   "name": "python3"
  },
  "language_info": {
   "codemirror_mode": {
    "name": "ipython",
    "version": 3
   },
   "file_extension": ".py",
   "mimetype": "text/x-python",
   "name": "python",
   "nbconvert_exporter": "python",
   "pygments_lexer": "ipython3",
   "version": "3.10.9"
  }
 },
 "nbformat": 4,
 "nbformat_minor": 5
}
